{
 "cells": [
  {
   "cell_type": "code",
   "execution_count": 3,
   "id": "ed0220f0",
   "metadata": {},
   "outputs": [],
   "source": [
    "# Import SparkSession\n",
    "from pyspark.sql import SparkSession\n",
    "\n",
    "# Create SparkSession \n",
    "spark = SparkSession.builder \\\n",
    "      .master(\"local[3]\") \\\n",
    "      .appName(\"Alex_Spark_POC\") \\\n",
    "      .config(\"spark.executor.memory\", \"512m\") \\\n",
    "      .getOrCreate() "
   ]
  },
  {
   "cell_type": "code",
   "execution_count": 5,
   "id": "928e53cd",
   "metadata": {},
   "outputs": [
    {
     "name": "stdout",
     "output_type": "stream",
     "text": [
      "200\n",
      "512m\n"
     ]
    }
   ],
   "source": [
    "# Get a Spark Config\n",
    "partions = spark.conf.get(\"spark.sql.shuffle.partitions\")\n",
    "print(partions)\n",
    "\n",
    "memory = spark.conf.get(\"spark.executor.memory\")\n",
    "print(memory)"
   ]
  },
  {
   "cell_type": "code",
   "execution_count": 2,
   "id": "29350565",
   "metadata": {},
   "outputs": [
    {
     "name": "stderr",
     "output_type": "stream",
     "text": [
      "                                                                                \r"
     ]
    },
    {
     "name": "stdout",
     "output_type": "stream",
     "text": [
      "root\n",
      " |-- Language: string (nullable = true)\n",
      " |-- Language_id: long (nullable = true)\n",
      "\n",
      "+--------+-----------+\n",
      "|Language|Language_id|\n",
      "+--------+-----------+\n",
      "|    Java|      20000|\n",
      "|  Python|     100000|\n",
      "|   Scala|       3000|\n",
      "+--------+-----------+\n",
      "\n"
     ]
    }
   ],
   "source": [
    "# Create RDD from parallelize    \n",
    "dataList = [(\"Java\", 20000), (\"Python\", 100000), (\"Scala\", 3000)]\n",
    "rdd=spark.sparkContext.parallelize(dataList)\n",
    "\n",
    "LanguageColumns = [\"Language\",\"Language_id\"]\n",
    "rddDF = rdd.toDF(LanguageColumns)\n",
    "rddDF.printSchema()\n",
    "rddDF.show()"
   ]
  },
  {
   "cell_type": "code",
   "execution_count": 3,
   "id": "ed02d09a",
   "metadata": {},
   "outputs": [],
   "source": [
    "# Create DataFrame from Data and schema\n",
    "data = [('James','','Smith','1991-04-01','M',3000),\n",
    "  ('Michael','Rose','','2000-05-19','M',4000),\n",
    "  ('Robert','','Williams','1978-09-05','M',4000),\n",
    "  ('Maria','Anne','Jones','1967-12-01','F',4000),\n",
    "  ('Jen','Mary','Brown','1980-02-17','F',-1)\n",
    "]\n",
    "\n",
    "columns = [\"firstname\",\"middlename\",\"lastname\",\"dob\",\"gender\",\"salary\"]\n",
    "df = spark.createDataFrame(data=data, schema = columns)"
   ]
  },
  {
   "cell_type": "code",
   "execution_count": 4,
   "id": "5d0c5b69",
   "metadata": {},
   "outputs": [
    {
     "name": "stdout",
     "output_type": "stream",
     "text": [
      "root\n",
      " |-- firstname: string (nullable = true)\n",
      " |-- middlename: string (nullable = true)\n",
      " |-- lastname: string (nullable = true)\n",
      " |-- dob: string (nullable = true)\n",
      " |-- gender: string (nullable = true)\n",
      " |-- salary: long (nullable = true)\n",
      "\n"
     ]
    },
    {
     "name": "stderr",
     "output_type": "stream",
     "text": [
      "                                                                                \r"
     ]
    },
    {
     "name": "stdout",
     "output_type": "stream",
     "text": [
      "+---------+----------+--------+----------+------+------+\n",
      "|firstname|middlename|lastname|       dob|gender|salary|\n",
      "+---------+----------+--------+----------+------+------+\n",
      "|    James|          |   Smith|1991-04-01|     M|  3000|\n",
      "|  Michael|      Rose|        |2000-05-19|     M|  4000|\n",
      "|   Robert|          |Williams|1978-09-05|     M|  4000|\n",
      "|    Maria|      Anne|   Jones|1967-12-01|     F|  4000|\n",
      "|      Jen|      Mary|   Brown|1980-02-17|     F|    -1|\n",
      "+---------+----------+--------+----------+------+------+\n",
      "\n"
     ]
    }
   ],
   "source": [
    "# Print Schema\n",
    "df.printSchema()\n",
    "\n",
    "# Show Data\n",
    "df.show()"
   ]
  },
  {
   "cell_type": "code",
   "execution_count": 5,
   "id": "ee7676b6",
   "metadata": {},
   "outputs": [
    {
     "name": "stdout",
     "output_type": "stream",
     "text": [
      "  firstname middlename  lastname         dob gender  salary\n",
      "0     James                Smith  1991-04-01      M    3000\n",
      "1   Michael       Rose            2000-05-19      M    4000\n",
      "2    Robert             Williams  1978-09-05      M    4000\n",
      "3     Maria       Anne     Jones  1967-12-01      F    4000\n",
      "4       Jen       Mary     Brown  1980-02-17      F      -1\n"
     ]
    }
   ],
   "source": [
    "# Convert SparkDF to PandasDF\n",
    "pandasDF = df.toPandas()\n",
    "print(pandasDF)"
   ]
  },
  {
   "cell_type": "code",
   "execution_count": 8,
   "id": "99f18b93",
   "metadata": {},
   "outputs": [
    {
     "name": "stdout",
     "output_type": "stream",
     "text": [
      "+------+--------+\n",
      "|gender|count(1)|\n",
      "+------+--------+\n",
      "|     M|       3|\n",
      "|     F|       2|\n",
      "+------+--------+\n",
      "\n",
      "+------+------------+----------+-------------+\n",
      "|gender|earliest_dob|max_salary|person_counts|\n",
      "+------+------------+----------+-------------+\n",
      "|     F|  1967-12-01|      4000|            2|\n",
      "|     M|  1978-09-05|      4000|            3|\n",
      "+------+------------+----------+-------------+\n",
      "\n"
     ]
    }
   ],
   "source": [
    "# Create temp view for group functions\n",
    "df.createOrReplaceTempView(\"PERSON_DATA\")\n",
    "groupDF = spark.sql(\"SELECT gender, count(*) from PERSON_DATA group by gender\")\n",
    "groupDF.show()\n",
    "\n",
    "groupDF2 = spark.sql(\"SELECT gender, min(dob) as earliest_dob, max(salary) max_salary, \\\n",
    "                             count(*) person_counts \\\n",
    "                     from PERSON_DATA \\\n",
    "                     group by gender\")\n",
    "groupDF2.show()"
   ]
  },
  {
   "cell_type": "code",
   "execution_count": 9,
   "id": "bc76abea",
   "metadata": {},
   "outputs": [
    {
     "name": "stdout",
     "output_type": "stream",
     "text": [
      "+---------+----------+--------+----------+------+------+----------+\n",
      "|firstname|middlename|lastname|dob       |gender|salary|row_number|\n",
      "+---------+----------+--------+----------+------+------+----------+\n",
      "|Jen      |Mary      |Brown   |1980-02-17|F     |-1    |1         |\n",
      "|Maria    |Anne      |Jones   |1967-12-01|F     |4000  |2         |\n",
      "|James    |          |Smith   |1991-04-01|M     |3000  |1         |\n",
      "|Michael  |Rose      |        |2000-05-19|M     |4000  |2         |\n",
      "|Robert   |          |Williams|1978-09-05|M     |4000  |3         |\n",
      "+---------+----------+--------+----------+------+------+----------+\n",
      "\n"
     ]
    }
   ],
   "source": [
    "# Window Function\n",
    "from pyspark.sql.window import Window\n",
    "from pyspark.sql.functions import row_number\n",
    "windowSpec  = Window.partitionBy(\"gender\").orderBy(\"salary\")\n",
    "\n",
    "df.withColumn(\"row_number\",row_number().over(windowSpec)) \\\n",
    "    .show(truncate=False)"
   ]
  },
  {
   "cell_type": "code",
   "execution_count": null,
   "id": "6e9d1346",
   "metadata": {},
   "outputs": [],
   "source": []
  }
 ],
 "metadata": {
  "kernelspec": {
   "display_name": "Python 3 (ipykernel)",
   "language": "python",
   "name": "python3"
  },
  "language_info": {
   "codemirror_mode": {
    "name": "ipython",
    "version": 3
   },
   "file_extension": ".py",
   "mimetype": "text/x-python",
   "name": "python",
   "nbconvert_exporter": "python",
   "pygments_lexer": "ipython3",
   "version": "3.9.12"
  }
 },
 "nbformat": 4,
 "nbformat_minor": 5
}
