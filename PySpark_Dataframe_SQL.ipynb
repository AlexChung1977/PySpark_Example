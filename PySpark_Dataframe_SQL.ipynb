{
  "nbformat": 4,
  "nbformat_minor": 0,
  "metadata": {
    "colab": {
      "name": "PySpark_Dataframe.ipynb",
      "provenance": [],
      "collapsed_sections": []
    },
    "kernelspec": {
      "name": "python3",
      "display_name": "Python 3"
    }
  },
  "cells": [
    {
      "cell_type": "markdown",
      "metadata": {
        "id": "jPyDpDqvZuLo"
      },
      "source": [
        "# **Welcome to the Notebook**"
      ]
    },
    {
      "cell_type": "markdown",
      "metadata": {
        "id": "F2YNhXuUwGNl"
      },
      "source": [
        "### Let's mount the google drive "
      ]
    },
    {
      "cell_type": "code",
      "metadata": {
        "id": "MmQC7J5cvkzE",
        "colab": {
          "base_uri": "https://localhost:8080/"
        },
        "outputId": "1e6699ff-95b2-4f7b-aad4-516bd43ffe4f"
      },
      "source": [
        "from google.colab import drive\n",
        "drive.mount('/content/drive')"
      ],
      "execution_count": null,
      "outputs": [
        {
          "output_type": "stream",
          "name": "stdout",
          "text": [
            "Mounted at /content/drive\n"
          ]
        }
      ]
    },
    {
      "cell_type": "markdown",
      "metadata": {
        "id": "cs9EInKyWicZ"
      },
      "source": [
        "# Task 1 : \n",
        "Installing pyspark module"
      ]
    },
    {
      "cell_type": "code",
      "metadata": {
        "id": "LJq2nzUKWujx",
        "colab": {
          "base_uri": "https://localhost:8080/"
        },
        "outputId": "bc6f8d79-9beb-49e1-def1-f7e559e48959"
      },
      "source": [
        "!pip install pyspark"
      ],
      "execution_count": null,
      "outputs": [
        {
          "output_type": "stream",
          "name": "stdout",
          "text": [
            "Looking in indexes: https://pypi.org/simple, https://us-python.pkg.dev/colab-wheels/public/simple/\n",
            "Collecting pyspark\n",
            "  Downloading pyspark-3.3.0.tar.gz (281.3 MB)\n",
            "\u001b[K     |████████████████████████████████| 281.3 MB 47 kB/s \n",
            "\u001b[?25hCollecting py4j==0.10.9.5\n",
            "  Downloading py4j-0.10.9.5-py2.py3-none-any.whl (199 kB)\n",
            "\u001b[K     |████████████████████████████████| 199 kB 48.6 MB/s \n",
            "\u001b[?25hBuilding wheels for collected packages: pyspark\n",
            "  Building wheel for pyspark (setup.py) ... \u001b[?25l\u001b[?25hdone\n",
            "  Created wheel for pyspark: filename=pyspark-3.3.0-py2.py3-none-any.whl size=281764026 sha256=0b013a6ccefef13470a4c847db5734bb33c47d7d8e81c9d1430b831e2e8877bf\n",
            "  Stored in directory: /root/.cache/pip/wheels/7a/8e/1b/f73a52650d2e5f337708d9f6a1750d451a7349a867f928b885\n",
            "Successfully built pyspark\n",
            "Installing collected packages: py4j, pyspark\n",
            "Successfully installed py4j-0.10.9.5 pyspark-3.3.0\n"
          ]
        }
      ]
    },
    {
      "cell_type": "markdown",
      "metadata": {
        "id": "dVNAlw2jWiWb"
      },
      "source": [
        "Importing the modules "
      ]
    },
    {
      "cell_type": "code",
      "metadata": {
        "id": "gS3YIWJiW7I3"
      },
      "source": [
        "from pyspark.sql import SparkSession\n",
        "from pyspark.sql.functions import count, desc , col, max, struct\n",
        "import matplotlib.pyplot as plts"
      ],
      "execution_count": null,
      "outputs": []
    },
    {
      "cell_type": "markdown",
      "metadata": {
        "id": "RKuIUYLwSkNP"
      },
      "source": [
        "creating spark session"
      ]
    },
    {
      "cell_type": "code",
      "metadata": {
        "id": "XXSZBvRgSnCN",
        "cellView": "both",
        "colab": {
          "base_uri": "https://localhost:8080/",
          "height": 221
        },
        "outputId": "c5e74eda-72c9-4a96-8829-ae563585d89a"
      },
      "source": [
        "spark=SparkSession.builder.appName('spark_app').getOrCreate()\n",
        "spark"
      ],
      "execution_count": null,
      "outputs": [
        {
          "output_type": "execute_result",
          "data": {
            "text/plain": [
              "<pyspark.sql.session.SparkSession at 0x7fd3d2f45310>"
            ],
            "text/html": [
              "\n",
              "            <div>\n",
              "                <p><b>SparkSession - in-memory</b></p>\n",
              "                \n",
              "        <div>\n",
              "            <p><b>SparkContext</b></p>\n",
              "\n",
              "            <p><a href=\"http://5ee8d68fca08:4040\">Spark UI</a></p>\n",
              "\n",
              "            <dl>\n",
              "              <dt>Version</dt>\n",
              "                <dd><code>v3.3.0</code></dd>\n",
              "              <dt>Master</dt>\n",
              "                <dd><code>local[*]</code></dd>\n",
              "              <dt>AppName</dt>\n",
              "                <dd><code>spark_app</code></dd>\n",
              "            </dl>\n",
              "        </div>\n",
              "        \n",
              "            </div>\n",
              "        "
            ]
          },
          "metadata": {},
          "execution_count": 5
        }
      ]
    },
    {
      "cell_type": "markdown",
      "metadata": {
        "id": "vv_SKqr8T9mT"
      },
      "source": [
        "# Task 2 : \n",
        "importing the *Listenings.csv* file: "
      ]
    },
    {
      "cell_type": "code",
      "metadata": {
        "id": "gK22lJDRTuKY"
      },
      "source": [
        "listening_csv_path='/content/drive/MyDrive/dataset/listenings.csv'\n",
        "listening_df = spark.read.format('csv').option('inferSchema',True).option('header',True).load(listening_csv_path)"
      ],
      "execution_count": null,
      "outputs": []
    },
    {
      "cell_type": "markdown",
      "metadata": {
        "id": "s1i6KVshykdn"
      },
      "source": [
        "let's check the data:"
      ]
    },
    {
      "cell_type": "code",
      "metadata": {
        "id": "5Ji0zViUyjUE",
        "colab": {
          "base_uri": "https://localhost:8080/"
        },
        "outputId": "23bfdf50-1631-44d4-b792-5d2a640945d8"
      },
      "source": [
        "listening_df.show(10)"
      ],
      "execution_count": null,
      "outputs": [
        {
          "output_type": "stream",
          "name": "stdout",
          "text": [
            "+-----------+-------------+--------------------+------------+--------------------+\n",
            "|    user_id|         date|               track|      artist|               album|\n",
            "+-----------+-------------+--------------------+------------+--------------------+\n",
            "|000Silenced|1299680100000|           Price Tag|    Jessie J|         Who You Are|\n",
            "|000Silenced|1299679920000|Price Tag (Acoust...|    Jessie J|           Price Tag|\n",
            "|000Silenced|1299679440000|Be Mine! (Ballad ...|       Robyn|            Be Mine!|\n",
            "|000Silenced|1299679200000|            Acapella|       Kelis|            Acapella|\n",
            "|000Silenced|1299675660000|   I'm Not Invisible|   The Tease|   I'm Not Invisible|\n",
            "|000Silenced|1297511400000|Bounce (Feat NORE...|    MSTRKRFT|         Fist of God|\n",
            "|000Silenced|1294498440000|Don't Stop The Mu...|     Rihanna|Addicted 2 Bassli...|\n",
            "|000Silenced|1292438340000|               ObZen|   Meshuggah|               ObZen|\n",
            "|000Silenced|1292437740000|   Yama's Messengers|      Gojira|The Way of All Flesh|\n",
            "|000Silenced|1292436360000|On the Brink of E...|Napalm Death|Time Waits For No...|\n",
            "+-----------+-------------+--------------------+------------+--------------------+\n",
            "only showing top 10 rows\n",
            "\n"
          ]
        }
      ]
    },
    {
      "cell_type": "markdown",
      "metadata": {
        "id": "HS6wd2d_woNC"
      },
      "source": [
        "let's delete useless columns:"
      ]
    },
    {
      "cell_type": "code",
      "metadata": {
        "id": "pIMzBAglwtNP"
      },
      "source": [
        "listening_df = listening_df.drop('date')"
      ],
      "execution_count": null,
      "outputs": []
    },
    {
      "cell_type": "markdown",
      "metadata": {
        "id": "MwpJJeWa4qmn"
      },
      "source": [
        "drop the null rows:"
      ]
    },
    {
      "cell_type": "code",
      "metadata": {
        "id": "Botf6-Vb4uqs"
      },
      "source": [
        "listening_df = listening_df.na.drop()"
      ],
      "execution_count": null,
      "outputs": []
    },
    {
      "cell_type": "markdown",
      "metadata": {
        "id": "tTN6jr3K4xkF"
      },
      "source": [
        "let's check the dataset again:"
      ]
    },
    {
      "cell_type": "code",
      "metadata": {
        "id": "JDp_rdEY40u3",
        "colab": {
          "base_uri": "https://localhost:8080/"
        },
        "outputId": "29df6cf1-2cb9-46fc-96b7-85ff2b100986"
      },
      "source": [
        "listening_df.show()"
      ],
      "execution_count": null,
      "outputs": [
        {
          "output_type": "stream",
          "name": "stdout",
          "text": [
            "+-----------+--------------------+---------------+--------------------+\n",
            "|    user_id|               track|         artist|               album|\n",
            "+-----------+--------------------+---------------+--------------------+\n",
            "|000Silenced|           Price Tag|       Jessie J|         Who You Are|\n",
            "|000Silenced|Price Tag (Acoust...|       Jessie J|           Price Tag|\n",
            "|000Silenced|Be Mine! (Ballad ...|          Robyn|            Be Mine!|\n",
            "|000Silenced|            Acapella|          Kelis|            Acapella|\n",
            "|000Silenced|   I'm Not Invisible|      The Tease|   I'm Not Invisible|\n",
            "|000Silenced|Bounce (Feat NORE...|       MSTRKRFT|         Fist of God|\n",
            "|000Silenced|Don't Stop The Mu...|        Rihanna|Addicted 2 Bassli...|\n",
            "|000Silenced|               ObZen|      Meshuggah|               ObZen|\n",
            "|000Silenced|   Yama's Messengers|         Gojira|The Way of All Flesh|\n",
            "|000Silenced|On the Brink of E...|   Napalm Death|Time Waits For No...|\n",
            "|000Silenced|On the Brink of E...|   Napalm Death|Time Waits For No...|\n",
            "|000Silenced|        In Deference|   Napalm Death|      Smear Campaign|\n",
            "|000Silenced|      Post(?)organic|    Decapitated|Organic Hallucinosis|\n",
            "|000Silenced|        Mind Feeders|   Dom & Roland| No Strings Attached|\n",
            "|000Silenced|Necrosadistic War...|Cannibal Corpse|                Kill|\n",
            "|000Silenced|     Dance All Night|   Dom & Roland|          Chronology|\n",
            "|000Silenced|          Late Night|   Dom & Roland|          Chronology|\n",
            "|000Silenced|          Freak Seen|   Dom & Roland|          Chronology|\n",
            "|000Silenced|Paradrenasite (Hi...|   Dom & Roland|          Chronology|\n",
            "|000Silenced|               Rhino|   Dom & Roland|          Chronology|\n",
            "+-----------+--------------------+---------------+--------------------+\n",
            "only showing top 20 rows\n",
            "\n"
          ]
        }
      ]
    },
    {
      "cell_type": "markdown",
      "metadata": {
        "id": "Z7nKCYoZltnv"
      },
      "source": [
        "let's see the schema: "
      ]
    },
    {
      "cell_type": "code",
      "metadata": {
        "id": "qVg1jt1OyWdh",
        "colab": {
          "base_uri": "https://localhost:8080/"
        },
        "outputId": "0a42ef19-6336-4fc6-add6-4d3aed31c1e4"
      },
      "source": [
        "listening_df.printSchema()"
      ],
      "execution_count": null,
      "outputs": [
        {
          "output_type": "stream",
          "name": "stdout",
          "text": [
            "root\n",
            " |-- user_id: string (nullable = true)\n",
            " |-- track: string (nullable = true)\n",
            " |-- artist: string (nullable = true)\n",
            " |-- album: string (nullable = true)\n",
            "\n"
          ]
        }
      ]
    },
    {
      "cell_type": "markdown",
      "metadata": {
        "id": "JMkQsQt2xSb5"
      },
      "source": [
        "let's see the shape of our dataframe: "
      ]
    },
    {
      "cell_type": "code",
      "metadata": {
        "id": "6POkV3YFmh6b",
        "colab": {
          "base_uri": "https://localhost:8080/"
        },
        "outputId": "f91ac0b8-fda2-481a-d425-e309d16eabdb"
      },
      "source": [
        "shape = (listening_df.count() , len(listening_df.columns))\n",
        "print(shape)"
      ],
      "execution_count": null,
      "outputs": [
        {
          "output_type": "stream",
          "name": "stdout",
          "text": [
            "(13758905, 4)\n"
          ]
        }
      ]
    },
    {
      "cell_type": "markdown",
      "source": [
        "Save the dataframe to ORC in local"
      ],
      "metadata": {
        "id": "V2vlm-4fKj5V"
      }
    },
    {
      "cell_type": "code",
      "source": [
        "listening_orc = listening_df.sample(fraction=0.001)\n",
        "listening_orc.write.orc('listening3.orc')"
      ],
      "metadata": {
        "id": "vgGNNpeJKrLf"
      },
      "execution_count": null,
      "outputs": []
    },
    {
      "cell_type": "markdown",
      "source": [
        "Convert Spark Dataframe to Pandas Dataframe"
      ],
      "metadata": {
        "id": "ZdOsSvlKPGxd"
      }
    },
    {
      "cell_type": "code",
      "source": [
        "listening_pd_df = listening_orc.toPandas()\n",
        "listening_pd_df.describe()"
      ],
      "metadata": {
        "colab": {
          "base_uri": "https://localhost:8080/",
          "height": 175
        },
        "id": "93Ygm13UOmmP",
        "outputId": "e15a90aa-8b65-4cf2-8998-52d165dbc3ba"
      },
      "execution_count": null,
      "outputs": [
        {
          "output_type": "execute_result",
          "data": {
            "text/plain": [
              "        user_id  track       artist          album\n",
              "count     13584  13584        13584          13584\n",
              "unique    12401  11864         6286          10231\n",
              "top     luminol  Intro  David Bowie  Greatest Hits\n",
              "freq          4     21           67             64"
            ],
            "text/html": [
              "\n",
              "  <div id=\"df-babe307d-9461-47ed-b56c-4a356f258953\">\n",
              "    <div class=\"colab-df-container\">\n",
              "      <div>\n",
              "<style scoped>\n",
              "    .dataframe tbody tr th:only-of-type {\n",
              "        vertical-align: middle;\n",
              "    }\n",
              "\n",
              "    .dataframe tbody tr th {\n",
              "        vertical-align: top;\n",
              "    }\n",
              "\n",
              "    .dataframe thead th {\n",
              "        text-align: right;\n",
              "    }\n",
              "</style>\n",
              "<table border=\"1\" class=\"dataframe\">\n",
              "  <thead>\n",
              "    <tr style=\"text-align: right;\">\n",
              "      <th></th>\n",
              "      <th>user_id</th>\n",
              "      <th>track</th>\n",
              "      <th>artist</th>\n",
              "      <th>album</th>\n",
              "    </tr>\n",
              "  </thead>\n",
              "  <tbody>\n",
              "    <tr>\n",
              "      <th>count</th>\n",
              "      <td>13584</td>\n",
              "      <td>13584</td>\n",
              "      <td>13584</td>\n",
              "      <td>13584</td>\n",
              "    </tr>\n",
              "    <tr>\n",
              "      <th>unique</th>\n",
              "      <td>12401</td>\n",
              "      <td>11864</td>\n",
              "      <td>6286</td>\n",
              "      <td>10231</td>\n",
              "    </tr>\n",
              "    <tr>\n",
              "      <th>top</th>\n",
              "      <td>luminol</td>\n",
              "      <td>Intro</td>\n",
              "      <td>David Bowie</td>\n",
              "      <td>Greatest Hits</td>\n",
              "    </tr>\n",
              "    <tr>\n",
              "      <th>freq</th>\n",
              "      <td>4</td>\n",
              "      <td>21</td>\n",
              "      <td>67</td>\n",
              "      <td>64</td>\n",
              "    </tr>\n",
              "  </tbody>\n",
              "</table>\n",
              "</div>\n",
              "      <button class=\"colab-df-convert\" onclick=\"convertToInteractive('df-babe307d-9461-47ed-b56c-4a356f258953')\"\n",
              "              title=\"Convert this dataframe to an interactive table.\"\n",
              "              style=\"display:none;\">\n",
              "        \n",
              "  <svg xmlns=\"http://www.w3.org/2000/svg\" height=\"24px\"viewBox=\"0 0 24 24\"\n",
              "       width=\"24px\">\n",
              "    <path d=\"M0 0h24v24H0V0z\" fill=\"none\"/>\n",
              "    <path d=\"M18.56 5.44l.94 2.06.94-2.06 2.06-.94-2.06-.94-.94-2.06-.94 2.06-2.06.94zm-11 1L8.5 8.5l.94-2.06 2.06-.94-2.06-.94L8.5 2.5l-.94 2.06-2.06.94zm10 10l.94 2.06.94-2.06 2.06-.94-2.06-.94-.94-2.06-.94 2.06-2.06.94z\"/><path d=\"M17.41 7.96l-1.37-1.37c-.4-.4-.92-.59-1.43-.59-.52 0-1.04.2-1.43.59L10.3 9.45l-7.72 7.72c-.78.78-.78 2.05 0 2.83L4 21.41c.39.39.9.59 1.41.59.51 0 1.02-.2 1.41-.59l7.78-7.78 2.81-2.81c.8-.78.8-2.07 0-2.86zM5.41 20L4 18.59l7.72-7.72 1.47 1.35L5.41 20z\"/>\n",
              "  </svg>\n",
              "      </button>\n",
              "      \n",
              "  <style>\n",
              "    .colab-df-container {\n",
              "      display:flex;\n",
              "      flex-wrap:wrap;\n",
              "      gap: 12px;\n",
              "    }\n",
              "\n",
              "    .colab-df-convert {\n",
              "      background-color: #E8F0FE;\n",
              "      border: none;\n",
              "      border-radius: 50%;\n",
              "      cursor: pointer;\n",
              "      display: none;\n",
              "      fill: #1967D2;\n",
              "      height: 32px;\n",
              "      padding: 0 0 0 0;\n",
              "      width: 32px;\n",
              "    }\n",
              "\n",
              "    .colab-df-convert:hover {\n",
              "      background-color: #E2EBFA;\n",
              "      box-shadow: 0px 1px 2px rgba(60, 64, 67, 0.3), 0px 1px 3px 1px rgba(60, 64, 67, 0.15);\n",
              "      fill: #174EA6;\n",
              "    }\n",
              "\n",
              "    [theme=dark] .colab-df-convert {\n",
              "      background-color: #3B4455;\n",
              "      fill: #D2E3FC;\n",
              "    }\n",
              "\n",
              "    [theme=dark] .colab-df-convert:hover {\n",
              "      background-color: #434B5C;\n",
              "      box-shadow: 0px 1px 3px 1px rgba(0, 0, 0, 0.15);\n",
              "      filter: drop-shadow(0px 1px 2px rgba(0, 0, 0, 0.3));\n",
              "      fill: #FFFFFF;\n",
              "    }\n",
              "  </style>\n",
              "\n",
              "      <script>\n",
              "        const buttonEl =\n",
              "          document.querySelector('#df-babe307d-9461-47ed-b56c-4a356f258953 button.colab-df-convert');\n",
              "        buttonEl.style.display =\n",
              "          google.colab.kernel.accessAllowed ? 'block' : 'none';\n",
              "\n",
              "        async function convertToInteractive(key) {\n",
              "          const element = document.querySelector('#df-babe307d-9461-47ed-b56c-4a356f258953');\n",
              "          const dataTable =\n",
              "            await google.colab.kernel.invokeFunction('convertToInteractive',\n",
              "                                                     [key], {});\n",
              "          if (!dataTable) return;\n",
              "\n",
              "          const docLinkHtml = 'Like what you see? Visit the ' +\n",
              "            '<a target=\"_blank\" href=https://colab.research.google.com/notebooks/data_table.ipynb>data table notebook</a>'\n",
              "            + ' to learn more about interactive tables.';\n",
              "          element.innerHTML = '';\n",
              "          dataTable['output_type'] = 'display_data';\n",
              "          await google.colab.output.renderOutput(dataTable, element);\n",
              "          const docLink = document.createElement('div');\n",
              "          docLink.innerHTML = docLinkHtml;\n",
              "          element.appendChild(docLink);\n",
              "        }\n",
              "      </script>\n",
              "    </div>\n",
              "  </div>\n",
              "  "
            ]
          },
          "metadata": {},
          "execution_count": 13
        }
      ]
    },
    {
      "cell_type": "markdown",
      "metadata": {
        "id": "XMD0DhFl2FEJ"
      },
      "source": [
        "# Task 3:\n",
        "\n",
        "**Query #0:**\n",
        "select two columns: track and artist"
      ]
    },
    {
      "cell_type": "code",
      "metadata": {
        "id": "FZTdA5wn2TZy",
        "colab": {
          "base_uri": "https://localhost:8080/"
        },
        "outputId": "22bfa1df-5b12-4f60-b7bb-837e835283b7"
      },
      "source": [
        "q0 = listening_df.select('track','artist')\n",
        "q0.show()"
      ],
      "execution_count": null,
      "outputs": [
        {
          "output_type": "stream",
          "name": "stdout",
          "text": [
            "+--------------------+---------------+\n",
            "|               track|         artist|\n",
            "+--------------------+---------------+\n",
            "|           Price Tag|       Jessie J|\n",
            "|Price Tag (Acoust...|       Jessie J|\n",
            "|Be Mine! (Ballad ...|          Robyn|\n",
            "|            Acapella|          Kelis|\n",
            "|   I'm Not Invisible|      The Tease|\n",
            "|Bounce (Feat NORE...|       MSTRKRFT|\n",
            "|Don't Stop The Mu...|        Rihanna|\n",
            "|               ObZen|      Meshuggah|\n",
            "|   Yama's Messengers|         Gojira|\n",
            "|On the Brink of E...|   Napalm Death|\n",
            "|On the Brink of E...|   Napalm Death|\n",
            "|        In Deference|   Napalm Death|\n",
            "|      Post(?)organic|    Decapitated|\n",
            "|        Mind Feeders|   Dom & Roland|\n",
            "|Necrosadistic War...|Cannibal Corpse|\n",
            "|     Dance All Night|   Dom & Roland|\n",
            "|          Late Night|   Dom & Roland|\n",
            "|          Freak Seen|   Dom & Roland|\n",
            "|Paradrenasite (Hi...|   Dom & Roland|\n",
            "|               Rhino|   Dom & Roland|\n",
            "+--------------------+---------------+\n",
            "only showing top 20 rows\n",
            "\n"
          ]
        }
      ]
    },
    {
      "cell_type": "markdown",
      "metadata": {
        "id": "QRcgXOFs2hjw"
      },
      "source": [
        "**Query #1**:\n",
        "\n",
        "Let's find all of the records of those users who have listened to ***Rihanna***"
      ]
    },
    {
      "cell_type": "code",
      "metadata": {
        "id": "ICyiTMVnppLw",
        "colab": {
          "base_uri": "https://localhost:8080/"
        },
        "outputId": "05638d45-98bc-4903-8ac3-f3cb90044349"
      },
      "source": [
        "q1 = listening_df.select('*').filter(listening_df.artist=='Rihanna')\n",
        "q1.show()"
      ],
      "execution_count": null,
      "outputs": [
        {
          "output_type": "stream",
          "name": "stdout",
          "text": [
            "+-----------+--------------------+-------+--------------------+\n",
            "|    user_id|               track| artist|               album|\n",
            "+-----------+--------------------+-------+--------------------+\n",
            "|000Silenced|Don't Stop The Mu...|Rihanna|Addicted 2 Bassli...|\n",
            "|000Silenced|           Disturbia|Rihanna|Good Girl Gone Ba...|\n",
            "|00williamsl|   Hatin On The Club|Rihanna|              Random|\n",
            "|00williamsl|   Hatin On The Club|Rihanna|              Random|\n",
            "|00williamsl|         Complicated|Rihanna|                Loud|\n",
            "|00williamsl|What's My Name (f...|Rihanna|                Loud|\n",
            "|00williamsl|Kanye West feat R...|Rihanna|                Loud|\n",
            "|    0502008|Only Girl (In the...|Rihanna|                Loud|\n",
            "|      0rdos|Pon De Replay (Re...|Rihanna|    Music of the Sun|\n",
            "|      0rdos|          Now I Know|Rihanna|    Music of the Sun|\n",
            "|      0rdos|There's a Thug in...|Rihanna|    Music of the Sun|\n",
            "|      0rdos|                Rush|Rihanna|    Music of the Sun|\n",
            "|      0rdos|              Let Me|Rihanna|    Music of the Sun|\n",
            "|      0rdos|    Music of the Sun|Rihanna|    Music of the Sun|\n",
            "|      0rdos|     Willing to Wait|Rihanna|    Music of the Sun|\n",
            "|      0rdos|       The Last Time|Rihanna|    Music of the Sun|\n",
            "|      0rdos|If It's Lovin' Th...|Rihanna|    Music of the Sun|\n",
            "|      0rdos|     Here I Go Again|Rihanna|    Music of the Sun|\n",
            "|      0rdos|       Pon de Replay|Rihanna|    Music of the Sun|\n",
            "|      0rdos|                 Cry|Rihanna|  Good Girl Gone Bad|\n",
            "+-----------+--------------------+-------+--------------------+\n",
            "only showing top 20 rows\n",
            "\n"
          ]
        }
      ]
    },
    {
      "cell_type": "markdown",
      "metadata": {
        "id": "I0IafeyvFU9O"
      },
      "source": [
        "**Query #2:**\n",
        "\n",
        "Let's find top 10 users who are fan of ***Rihanna***"
      ]
    },
    {
      "cell_type": "code",
      "metadata": {
        "id": "3-hM9kMm7JmI",
        "colab": {
          "base_uri": "https://localhost:8080/"
        },
        "outputId": "be711f2c-8929-4715-b042-926ff3d85ebe"
      },
      "source": [
        "q2 = listening_df.select('user_id').filter(listening_df.artist=='Rihanna').groupby('user_id').agg(count('user_id').alias('count')).orderBy(desc('count')).limit(10)\n",
        "q2.show()"
      ],
      "execution_count": null,
      "outputs": [
        {
          "output_type": "stream",
          "name": "stdout",
          "text": [
            "+---------------+-----+\n",
            "|        user_id|count|\n",
            "+---------------+-----+\n",
            "|        thiessu|  179|\n",
            "|    eyessetkyle|  166|\n",
            "|           adxx|  164|\n",
            "|missnumberthree|  156|\n",
            "|helloiamnatalie|  128|\n",
            "|          nmjnb|  124|\n",
            "|        AndyyyA|  123|\n",
            "|     BIGBANG186|  121|\n",
            "|     mixedvibes|  120|\n",
            "|       AndyKitt|  115|\n",
            "+---------------+-----+\n",
            "\n"
          ]
        }
      ]
    },
    {
      "cell_type": "markdown",
      "metadata": {
        "id": "hgAAl6aAcp41"
      },
      "source": [
        "**Query #3:**\n",
        "\n",
        "find top 10 famous tracks "
      ]
    },
    {
      "cell_type": "code",
      "metadata": {
        "id": "qlh3IUzfJ3_I",
        "colab": {
          "base_uri": "https://localhost:8080/"
        },
        "outputId": "b629da75-4abb-4df6-f143-dd3748e53829"
      },
      "source": [
        "q3 = listening_df.select('artist','track').groupby('artist','track').agg(count('*').alias('count')).orderBy(desc('count')).limit(10)\n",
        "q3.show()"
      ],
      "execution_count": null,
      "outputs": [
        {
          "output_type": "stream",
          "name": "stdout",
          "text": [
            "+--------------+----------------+-----+\n",
            "|        artist|           track|count|\n",
            "+--------------+----------------+-----+\n",
            "| Justin Bieber|           Sorry| 3381|\n",
            "|Arctic Monkeys|Do I Wanna Know?| 2865|\n",
            "|      Bon Iver|     Skinny Love| 2836|\n",
            "|          Zayn|      PILLOWTALK| 2701|\n",
            "|   The Killers|   Mr Brightside| 2690|\n",
            "|       Rihanna|            Work| 2646|\n",
            "|      Bastille|         Pompeii| 2606|\n",
            "|Mumford & Sons| Little Lion Man| 2520|\n",
            "|Mumford & Sons|        The Cave| 2485|\n",
            "| Justin Bieber|   Love Yourself| 2481|\n",
            "+--------------+----------------+-----+\n",
            "\n"
          ]
        }
      ]
    },
    {
      "cell_type": "markdown",
      "metadata": {
        "id": "HqhPhQvjeXt0"
      },
      "source": [
        "**Query #4:**\n",
        "\n",
        "find top 10 famous tracks of ***Rihanna*** "
      ]
    },
    {
      "cell_type": "code",
      "metadata": {
        "id": "D_npmdh1ec8y",
        "colab": {
          "base_uri": "https://localhost:8080/"
        },
        "outputId": "03e120ec-8d07-46d5-a874-37eed3f674b4"
      },
      "source": [
        "q4 = listening_df.select('artist','track').filter(listening_df.artist=='Rihanna').groupby('artist','track').agg(count('*').alias('count')).orderBy(desc('count')).limit(10)\n",
        "q4.show()"
      ],
      "execution_count": null,
      "outputs": [
        {
          "output_type": "stream",
          "name": "stdout",
          "text": [
            "+-------+--------------------+-----+\n",
            "| artist|               track|count|\n",
            "+-------+--------------------+-----+\n",
            "|Rihanna|                Work| 2646|\n",
            "|Rihanna|Only Girl (In the...| 1749|\n",
            "|Rihanna|We Found Love (fe...| 1575|\n",
            "|Rihanna|                 S&M| 1307|\n",
            "|Rihanna|            Rude Boy| 1303|\n",
            "|Rihanna|            Diamonds| 1224|\n",
            "|Rihanna|      Kiss it Better|  945|\n",
            "|Rihanna| Where Have You Been|  844|\n",
            "|Rihanna|Cheers (Drink to ...|  697|\n",
            "|Rihanna|           Needed Me|  679|\n",
            "+-------+--------------------+-----+\n",
            "\n"
          ]
        }
      ]
    },
    {
      "cell_type": "markdown",
      "metadata": {
        "id": "E6pgcH0p1ZXo"
      },
      "source": [
        "**Query #5:**\n",
        "\n",
        "find top 10 famous albums "
      ]
    },
    {
      "cell_type": "code",
      "metadata": {
        "id": "c5YHm6yKenE7",
        "colab": {
          "base_uri": "https://localhost:8080/"
        },
        "outputId": "e76e7638-ee47-44c2-8c7d-41a61e2d9cff"
      },
      "source": [
        "q5 = listening_df.select('artist','album').groupby('artist','album').agg(count('*').alias('count')).orderBy(desc('count')).limit(10)\n",
        "q5.show()"
      ],
      "execution_count": null,
      "outputs": [
        {
          "output_type": "stream",
          "name": "stdout",
          "text": [
            "+--------------------+--------------------+-----+\n",
            "|              artist|               album|count|\n",
            "+--------------------+--------------------+-----+\n",
            "|          Kanye West|   The Life Of Pablo|22310|\n",
            "|              The xx|                  xx|14195|\n",
            "|      Arctic Monkeys|                  AM|14090|\n",
            "|               alt-J|     An Awesome Wave|13635|\n",
            "|      Mumford & Sons|        Sigh No More|13543|\n",
            "|      Arctic Monkeys|Whatever People S...|12731|\n",
            "|            Bon Iver|            For Emma|11994|\n",
            "|              Grimes|          Art Angels|11655|\n",
            "|Florence + the Ma...|               Lungs|11362|\n",
            "|               Adele|                  21|11215|\n",
            "+--------------------+--------------------+-----+\n",
            "\n"
          ]
        }
      ]
    },
    {
      "cell_type": "markdown",
      "metadata": {
        "id": "YXev8HQ57bdq"
      },
      "source": [
        "# Task 4 :\n",
        "importing the ***genre.csv*** file:"
      ]
    },
    {
      "cell_type": "code",
      "metadata": {
        "id": "tpXSrYfu14PB"
      },
      "source": [
        "gener_csv_path='/content/drive/MyDrive/dataset/genre.csv'\n",
        "gener_df = spark.read.format('csv').option('inferSchema',True).option('header',True).load(gener_csv_path)"
      ],
      "execution_count": null,
      "outputs": []
    },
    {
      "cell_type": "markdown",
      "metadata": {
        "id": "aCHSo36W9RcP"
      },
      "source": [
        "let's check the data"
      ]
    },
    {
      "cell_type": "code",
      "metadata": {
        "id": "LJu4Ouz89O6_",
        "colab": {
          "base_uri": "https://localhost:8080/"
        },
        "outputId": "1151ea86-9162-49c1-c553-4e0c4014b56b"
      },
      "source": [
        "gener_df.show()"
      ],
      "execution_count": null,
      "outputs": [
        {
          "output_type": "stream",
          "name": "stdout",
          "text": [
            "+--------------------+-----+\n",
            "|              artist|genre|\n",
            "+--------------------+-----+\n",
            "|                Muse| rock|\n",
            "|             Nirvana| rock|\n",
            "|            Bon Jovi| rock|\n",
            "|          The Police| rock|\n",
            "|                Kiss| rock|\n",
            "|       Guns N' Roses| rock|\n",
            "|         Rusted Root| rock|\n",
            "|Katrina and the W...|  pop|\n",
            "|         The Beatles| rock|\n",
            "|        Hall & Oates|  pop|\n",
            "|        Otis Redding| soul|\n",
            "|         Marvin Gaye| soul|\n",
            "|     The Cranberries| rock|\n",
            "|            Survivor| rock|\n",
            "|       Fleetwood Mac|blues|\n",
            "|           Radiohead| rock|\n",
            "|                Toto| rock|\n",
            "|                  U2| rock|\n",
            "|Creedence Clearwa...| rock|\n",
            "|                 REM| rock|\n",
            "+--------------------+-----+\n",
            "only showing top 20 rows\n",
            "\n"
          ]
        }
      ]
    },
    {
      "cell_type": "markdown",
      "metadata": {
        "id": "72OpWX7F98qg"
      },
      "source": [
        "Let's inner join these two data frames"
      ]
    },
    {
      "cell_type": "code",
      "source": [
        "data = listening_df.join(gener_df,how='inner',on=['artist'])\n",
        "data.show(10)"
      ],
      "metadata": {
        "colab": {
          "base_uri": "https://localhost:8080/"
        },
        "id": "IZBfBWVrbEF9",
        "outputId": "2980690e-55bd-4a42-9102-ab1cb93d3e45"
      },
      "execution_count": null,
      "outputs": [
        {
          "output_type": "stream",
          "name": "stdout",
          "text": [
            "+--------+-----------+--------------------+-----------+--------------------+\n",
            "|  artist|    user_id|               track|      album|               genre|\n",
            "+--------+-----------+--------------------+-----------+--------------------+\n",
            "|Jessie J|000Silenced|           Price Tag|Who You Are| Ariana Grande & ...|\n",
            "|Jessie J|000Silenced|           Price Tag|Who You Are| Jhene Aiko & Rixton|\n",
            "|Jessie J|000Silenced|           Price Tag|Who You Are| Nicki Minaj & Ar...|\n",
            "|Jessie J|000Silenced|           Price Tag|Who You Are|                 pop|\n",
            "|Jessie J|000Silenced|Price Tag (Acoust...|  Price Tag| Ariana Grande & ...|\n",
            "|Jessie J|000Silenced|Price Tag (Acoust...|  Price Tag| Jhene Aiko & Rixton|\n",
            "|Jessie J|000Silenced|Price Tag (Acoust...|  Price Tag| Nicki Minaj & Ar...|\n",
            "|Jessie J|000Silenced|Price Tag (Acoust...|  Price Tag|                 pop|\n",
            "|   Robyn|000Silenced|Be Mine! (Ballad ...|   Be Mine!|                 pop|\n",
            "|   Kelis|000Silenced|            Acapella|   Acapella|                 pop|\n",
            "+--------+-----------+--------------------+-----------+--------------------+\n",
            "only showing top 10 rows\n",
            "\n"
          ]
        }
      ]
    },
    {
      "cell_type": "markdown",
      "metadata": {
        "id": "yM_f5qILBNeI"
      },
      "source": [
        "**Query #6**\n",
        "\n",
        "find top 10 users who are fan of ***pop*** music"
      ]
    },
    {
      "cell_type": "code",
      "metadata": {
        "id": "dognQVlxBi2n",
        "colab": {
          "base_uri": "https://localhost:8080/"
        },
        "outputId": "b94e3fae-60f1-40cf-e88e-99d7afde0ae2"
      },
      "source": [
        "q6 =  data.select('user_id').filter(data.genre=='pop').groupby('user_id').agg(count('*').alias('user_count')).orderBy(desc('user_count')).limit(10)\n",
        "q6.show()"
      ],
      "execution_count": null,
      "outputs": [
        {
          "output_type": "stream",
          "name": "stdout",
          "text": [
            "+---------------+----------+\n",
            "|        user_id|user_count|\n",
            "+---------------+----------+\n",
            "|        01Green|       496|\n",
            "|      momousagi|       400|\n",
            "|          mrpsb|       400|\n",
            "|   BlueKnockOut|       378|\n",
            "|    musicboy80s|       376|\n",
            "|  incultojurgis|       374|\n",
            "| ElektricOrchid|       370|\n",
            "|foreign_fanatic|       350|\n",
            "|   Kevin_Soutar|       346|\n",
            "|  landrover2171|       301|\n",
            "+---------------+----------+\n",
            "\n"
          ]
        }
      ]
    },
    {
      "cell_type": "markdown",
      "source": [
        ""
      ],
      "metadata": {
        "id": "FeMLgrvsaG4i"
      }
    },
    {
      "cell_type": "markdown",
      "metadata": {
        "id": "63quzy7t-zb7"
      },
      "source": [
        "**Query #7**\n",
        "\n",
        "find top 10 famous genres"
      ]
    },
    {
      "cell_type": "code",
      "metadata": {
        "id": "aDFcoPPk-Rhf",
        "colab": {
          "base_uri": "https://localhost:8080/"
        },
        "outputId": "952fc122-6a04-43bd-e0d5-f172223cad83"
      },
      "source": [
        "q7 =  data.select('genre').groupby('genre').agg(count('*').alias('count')).orderBy(desc('count')).limit(10)\n",
        "q7.show()"
      ],
      "execution_count": null,
      "outputs": [
        {
          "output_type": "stream",
          "name": "stdout",
          "text": [
            "+----------+-------+\n",
            "|     genre|  count|\n",
            "+----------+-------+\n",
            "|      rock|2691934|\n",
            "|       pop|1544747|\n",
            "|electronic| 551509|\n",
            "|   hip hop| 532984|\n",
            "|      folk| 438174|\n",
            "|indie rock| 431439|\n",
            "|      punk| 380915|\n",
            "|       r&b| 344101|\n",
            "|     metal| 208107|\n",
            "|     indie| 206726|\n",
            "+----------+-------+\n",
            "\n"
          ]
        }
      ]
    },
    {
      "cell_type": "markdown",
      "metadata": {
        "id": "hrZOAWVgLMZo"
      },
      "source": [
        "# Task 5:\n",
        "**Query #8**\n",
        "\n",
        "find out each user favourite genre"
      ]
    },
    {
      "cell_type": "code",
      "metadata": {
        "id": "H3AWxlkbLvCg",
        "colab": {
          "base_uri": "https://localhost:8080/"
        },
        "outputId": "e96ca4f3-ecf2-47b7-ad75-b8b560c16997"
      },
      "source": [
        "q8_1 = data.select('user_id','genre').groupby('genre','user_id').agg(count('*').alias('count')).orderBy('user_id')\n",
        "q8_1.show()"
      ],
      "execution_count": null,
      "outputs": [
        {
          "output_type": "stream",
          "name": "stdout",
          "text": [
            "+--------------------+-------+-----+\n",
            "|               genre|user_id|count|\n",
            "+--------------------+-------+-----+\n",
            "| Tamás Vásáry & Y...| --Seph|    1|\n",
            "|              trance| --Seph|    1|\n",
            "|              techno| --Seph|    3|\n",
            "|          electronic| --Seph|    6|\n",
            "|               indie| --Seph|    3|\n",
            "|             baroque| --Seph|    1|\n",
            "|         folktronica| --Seph|    2|\n",
            "|                soul| --Seph|    1|\n",
            "|   progressive house| --Seph|    1|\n",
            "|            romantic| --Seph|    1|\n",
            "|              Xzibit| --Seph|    4|\n",
            "|            new rave| --Seph|    1|\n",
            "| Charis Henry & M...| --Seph|    4|\n",
            "|                 pop| --Seph|    9|\n",
            "|             Rihanna| --Seph|    1|\n",
            "| Richard Armitage...| --Seph|    1|\n",
            "|               opera| --Seph|   12|\n",
            "| Arnór Dan & Doug...| --Seph|    1|\n",
            "|      children music| --Seph|    1|\n",
            "|          Thom Yorke| --Seph|    2|\n",
            "+--------------------+-------+-----+\n",
            "only showing top 20 rows\n",
            "\n"
          ]
        }
      ]
    },
    {
      "cell_type": "code",
      "metadata": {
        "id": "Soy2bMxQN-Ub",
        "colab": {
          "base_uri": "https://localhost:8080/"
        },
        "outputId": "48a95128-c26c-411d-e447-e87740010780"
      },
      "source": [
        "q8_2 = q8_1.groupby('user_id').agg(max(struct(col('count'),col('genre'))).alias('max')).select('user_id','max.genre')\n",
        "q8_2.show()"
      ],
      "execution_count": null,
      "outputs": [
        {
          "output_type": "stream",
          "name": "stdout",
          "text": [
            "+---------------+-----------+\n",
            "|        user_id|      genre|\n",
            "+---------------+-----------+\n",
            "|      --Shinn--|       rock|\n",
            "|       --ollz--|       rock|\n",
            "|     -Amnesiac-|      metal|\n",
            "|         -Bish-|       rock|\n",
            "|        -Danni-|       rock|\n",
            "|          -DeWp|    hip hop|\n",
            "|      -Faction-|       rock|\n",
            "|-February-Star-|       rock|\n",
            "|        -Gemma-|british pop|\n",
            "|   -Gingergirl-|        pop|\n",
            "|        -Hazel-|   synthpop|\n",
            "|        -Heiko-| electronic|\n",
            "|         -Katie|      lo-fi|\n",
            "|      -Krystal-|       rock|\n",
            "|         -Mark-| indie rock|\n",
            "|       -Mullet-|  metalcore|\n",
            "|          -Robs|       rock|\n",
            "| -SleepingStar-|black metal|\n",
            "|      -Stifler-|       rock|\n",
            "|  -Toxic-Waste-|  aggrotech|\n",
            "+---------------+-----------+\n",
            "only showing top 20 rows\n",
            "\n"
          ]
        }
      ]
    },
    {
      "cell_type": "markdown",
      "metadata": {
        "id": "6oIyhOHkCDuv"
      },
      "source": [
        "**Query #9**\n",
        "\n",
        "find out how many pop,rock,metal and hip hop singers we have\n",
        "\n",
        "and then visulize it using bar chart "
      ]
    },
    {
      "cell_type": "code",
      "metadata": {
        "id": "7_lEjNKVCDJv",
        "colab": {
          "base_uri": "https://localhost:8080/"
        },
        "outputId": "0c60a710-814f-433a-e195-0fc5afbb3e12"
      },
      "source": [
        "q9 = gener_df.select('genre').filter((col('genre')=='pop') | (col('genre')=='rock') |(col('genre')=='metal') | (col('genre')=='hip hop')).groupBy('genre').agg(count('*').alias('count'))\n",
        "q9.show()"
      ],
      "execution_count": null,
      "outputs": [
        {
          "output_type": "stream",
          "name": "stdout",
          "text": [
            "+-------+-----+\n",
            "|  genre|count|\n",
            "+-------+-----+\n",
            "|    pop| 6960|\n",
            "|hip hop| 4288|\n",
            "|  metal| 1854|\n",
            "|   rock| 9066|\n",
            "+-------+-----+\n",
            "\n"
          ]
        }
      ]
    },
    {
      "cell_type": "markdown",
      "metadata": {
        "id": "h0h2SSk8InMH"
      },
      "source": [
        "Now, let's visualize the results using ***matplotlib***"
      ]
    },
    {
      "cell_type": "code",
      "metadata": {
        "id": "J-n8gOC0Imj5",
        "colab": {
          "base_uri": "https://localhost:8080/"
        },
        "outputId": "91598acd-ea60-4fff-8a2d-54c90142cf97"
      },
      "source": [
        "q9_list = q9.collect()\n",
        "print(q9_list)"
      ],
      "execution_count": null,
      "outputs": [
        {
          "output_type": "stream",
          "name": "stdout",
          "text": [
            "[Row(genre='pop', count=6960), Row(genre='hip hop', count=4288), Row(genre='metal', count=1854), Row(genre='rock', count=9066)]\n"
          ]
        }
      ]
    },
    {
      "cell_type": "code",
      "metadata": {
        "id": "CMigHLrEQgKv"
      },
      "source": [
        "labels = [row['genre'] for row in q9_list]\n",
        "counts = [row['count'] for row in q9_list]"
      ],
      "execution_count": null,
      "outputs": []
    },
    {
      "cell_type": "code",
      "metadata": {
        "id": "FYLE4Mbu_Lbu",
        "colab": {
          "base_uri": "https://localhost:8080/"
        },
        "outputId": "6758eabd-5a28-462e-e7db-cf8c5533794b"
      },
      "source": [
        "print(labels)\n",
        "print(counts)"
      ],
      "execution_count": null,
      "outputs": [
        {
          "output_type": "stream",
          "name": "stdout",
          "text": [
            "['pop', 'hip hop', 'metal', 'rock']\n",
            "[6960, 4288, 1854, 9066]\n"
          ]
        }
      ]
    },
    {
      "cell_type": "markdown",
      "metadata": {
        "id": "1iDrvEwYQ4AE"
      },
      "source": [
        "now lets visualize these two lists using a bar chart"
      ]
    },
    {
      "cell_type": "code",
      "metadata": {
        "id": "XOOq1U9BQjKI",
        "colab": {
          "base_uri": "https://localhost:8080/",
          "height": 282
        },
        "outputId": "73486e6c-776c-4fcd-867b-9b48c8dd2083"
      },
      "source": [
        "plts.bar(labels,counts)\n"
      ],
      "execution_count": null,
      "outputs": [
        {
          "output_type": "execute_result",
          "data": {
            "text/plain": [
              "<BarContainer object of 4 artists>"
            ]
          },
          "metadata": {},
          "execution_count": 33
        },
        {
          "output_type": "display_data",
          "data": {
            "text/plain": [
              "<Figure size 432x288 with 1 Axes>"
            ],
            "image/png": "[encoded data removed]"
          },
          "metadata": {
            "needs_background": "light"
          }
        }
      ]
    },
    {
      "cell_type": "markdown",
      "source": [
        "**Spark SQL**"
      ],
      "metadata": {
        "id": "OTl6wJ9CcVLV"
      }
    },
    {
      "cell_type": "code",
      "source": [
        "data.createOrReplaceTempView(\"data\")\n",
        "\n",
        "spark.sql(\"select artist, count(*) as listen_count from data group by artist order by count(*) desc\").show(20)"
      ],
      "metadata": {
        "colab": {
          "base_uri": "https://localhost:8080/"
        },
        "id": "7ikh-TRCcmcx",
        "outputId": "dd822466-ed9a-4bfd-a591-41bc2ab0dd79"
      },
      "execution_count": null,
      "outputs": [
        {
          "output_type": "stream",
          "name": "stdout",
          "text": [
            "+--------------+------------+\n",
            "|        artist|listen_count|\n",
            "+--------------+------------+\n",
            "|    Kanye West|      831345|\n",
            "|        Eminem|      360945|\n",
            "|       Beyoncé|      270450|\n",
            "|       Rihanna|      207970|\n",
            "|Kendrick Lamar|      185504|\n",
            "|  David Guetta|      180570|\n",
            "|         Drake|      161777|\n",
            "|     Daft Punk|      141810|\n",
            "|   Hans Zimmer|      127032|\n",
            "| Justin Bieber|       98160|\n",
            "|     Radiohead|       94618|\n",
            "|   Max Richter|       92464|\n",
            "|     Bob Dylan|       86145|\n",
            "|        Dr Dre|       84600|\n",
            "| Calvin Harris|       80955|\n",
            "| Ricky Gervais|       65484|\n",
            "|   David Bowie|       64056|\n",
            "|  Lana Del Rey|       63332|\n",
            "|        Grimes|       62985|\n",
            "|      Skrillex|       61754|\n",
            "+--------------+------------+\n",
            "only showing top 20 rows\n",
            "\n"
          ]
        }
      ]
    },
    {
      "cell_type": "code",
      "source": [
        "pd_listening = spark.sql(\"SELECT album, artist, count(distinct track) as total_tracks, count(*) as hit_counts from data group by album, artist order by count(*) desc limit 10000\").toPandas()\n"
      ],
      "metadata": {
        "id": "nLW9HzwZgKMr"
      },
      "execution_count": null,
      "outputs": []
    },
    {
      "cell_type": "code",
      "source": [
        "pd_listening.describe()"
      ],
      "metadata": {
        "id": "WFMmMmru-9Wg",
        "outputId": "06d24825-8e7d-4995-e9cc-25bac93520cf",
        "colab": {
          "base_uri": "https://localhost:8080/",
          "height": 300
        }
      },
      "execution_count": null,
      "outputs": [
        {
          "output_type": "execute_result",
          "data": {
            "text/plain": [
              "       total_tracks     hit_counts\n",
              "count  10000.000000   10000.000000\n",
              "mean      23.272500    1106.689800\n",
              "std       26.974436    4360.963782\n",
              "min        1.000000     226.000000\n",
              "25%       13.000000     308.000000\n",
              "50%       18.000000     465.000000\n",
              "75%       28.000000     900.000000\n",
              "max     1490.000000  334650.000000"
            ],
            "text/html": [
              "\n",
              "  <div id=\"df-e7ced13d-3a22-4840-88cf-9c2983fe6f61\">\n",
              "    <div class=\"colab-df-container\">\n",
              "      <div>\n",
              "<style scoped>\n",
              "    .dataframe tbody tr th:only-of-type {\n",
              "        vertical-align: middle;\n",
              "    }\n",
              "\n",
              "    .dataframe tbody tr th {\n",
              "        vertical-align: top;\n",
              "    }\n",
              "\n",
              "    .dataframe thead th {\n",
              "        text-align: right;\n",
              "    }\n",
              "</style>\n",
              "<table border=\"1\" class=\"dataframe\">\n",
              "  <thead>\n",
              "    <tr style=\"text-align: right;\">\n",
              "      <th></th>\n",
              "      <th>total_tracks</th>\n",
              "      <th>hit_counts</th>\n",
              "    </tr>\n",
              "  </thead>\n",
              "  <tbody>\n",
              "    <tr>\n",
              "      <th>count</th>\n",
              "      <td>10000.000000</td>\n",
              "      <td>10000.000000</td>\n",
              "    </tr>\n",
              "    <tr>\n",
              "      <th>mean</th>\n",
              "      <td>23.272500</td>\n",
              "      <td>1106.689800</td>\n",
              "    </tr>\n",
              "    <tr>\n",
              "      <th>std</th>\n",
              "      <td>26.974436</td>\n",
              "      <td>4360.963782</td>\n",
              "    </tr>\n",
              "    <tr>\n",
              "      <th>min</th>\n",
              "      <td>1.000000</td>\n",
              "      <td>226.000000</td>\n",
              "    </tr>\n",
              "    <tr>\n",
              "      <th>25%</th>\n",
              "      <td>13.000000</td>\n",
              "      <td>308.000000</td>\n",
              "    </tr>\n",
              "    <tr>\n",
              "      <th>50%</th>\n",
              "      <td>18.000000</td>\n",
              "      <td>465.000000</td>\n",
              "    </tr>\n",
              "    <tr>\n",
              "      <th>75%</th>\n",
              "      <td>28.000000</td>\n",
              "      <td>900.000000</td>\n",
              "    </tr>\n",
              "    <tr>\n",
              "      <th>max</th>\n",
              "      <td>1490.000000</td>\n",
              "      <td>334650.000000</td>\n",
              "    </tr>\n",
              "  </tbody>\n",
              "</table>\n",
              "</div>\n",
              "      <button class=\"colab-df-convert\" onclick=\"convertToInteractive('df-e7ced13d-3a22-4840-88cf-9c2983fe6f61')\"\n",
              "              title=\"Convert this dataframe to an interactive table.\"\n",
              "              style=\"display:none;\">\n",
              "        \n",
              "  <svg xmlns=\"http://www.w3.org/2000/svg\" height=\"24px\"viewBox=\"0 0 24 24\"\n",
              "       width=\"24px\">\n",
              "    <path d=\"M0 0h24v24H0V0z\" fill=\"none\"/>\n",
              "    <path d=\"M18.56 5.44l.94 2.06.94-2.06 2.06-.94-2.06-.94-.94-2.06-.94 2.06-2.06.94zm-11 1L8.5 8.5l.94-2.06 2.06-.94-2.06-.94L8.5 2.5l-.94 2.06-2.06.94zm10 10l.94 2.06.94-2.06 2.06-.94-2.06-.94-.94-2.06-.94 2.06-2.06.94z\"/><path d=\"M17.41 7.96l-1.37-1.37c-.4-.4-.92-.59-1.43-.59-.52 0-1.04.2-1.43.59L10.3 9.45l-7.72 7.72c-.78.78-.78 2.05 0 2.83L4 21.41c.39.39.9.59 1.41.59.51 0 1.02-.2 1.41-.59l7.78-7.78 2.81-2.81c.8-.78.8-2.07 0-2.86zM5.41 20L4 18.59l7.72-7.72 1.47 1.35L5.41 20z\"/>\n",
              "  </svg>\n",
              "      </button>\n",
              "      \n",
              "  <style>\n",
              "    .colab-df-container {\n",
              "      display:flex;\n",
              "      flex-wrap:wrap;\n",
              "      gap: 12px;\n",
              "    }\n",
              "\n",
              "    .colab-df-convert {\n",
              "      background-color: #E8F0FE;\n",
              "      border: none;\n",
              "      border-radius: 50%;\n",
              "      cursor: pointer;\n",
              "      display: none;\n",
              "      fill: #1967D2;\n",
              "      height: 32px;\n",
              "      padding: 0 0 0 0;\n",
              "      width: 32px;\n",
              "    }\n",
              "\n",
              "    .colab-df-convert:hover {\n",
              "      background-color: #E2EBFA;\n",
              "      box-shadow: 0px 1px 2px rgba(60, 64, 67, 0.3), 0px 1px 3px 1px rgba(60, 64, 67, 0.15);\n",
              "      fill: #174EA6;\n",
              "    }\n",
              "\n",
              "    [theme=dark] .colab-df-convert {\n",
              "      background-color: #3B4455;\n",
              "      fill: #D2E3FC;\n",
              "    }\n",
              "\n",
              "    [theme=dark] .colab-df-convert:hover {\n",
              "      background-color: #434B5C;\n",
              "      box-shadow: 0px 1px 3px 1px rgba(0, 0, 0, 0.15);\n",
              "      filter: drop-shadow(0px 1px 2px rgba(0, 0, 0, 0.3));\n",
              "      fill: #FFFFFF;\n",
              "    }\n",
              "  </style>\n",
              "\n",
              "      <script>\n",
              "        const buttonEl =\n",
              "          document.querySelector('#df-e7ced13d-3a22-4840-88cf-9c2983fe6f61 button.colab-df-convert');\n",
              "        buttonEl.style.display =\n",
              "          google.colab.kernel.accessAllowed ? 'block' : 'none';\n",
              "\n",
              "        async function convertToInteractive(key) {\n",
              "          const element = document.querySelector('#df-e7ced13d-3a22-4840-88cf-9c2983fe6f61');\n",
              "          const dataTable =\n",
              "            await google.colab.kernel.invokeFunction('convertToInteractive',\n",
              "                                                     [key], {});\n",
              "          if (!dataTable) return;\n",
              "\n",
              "          const docLinkHtml = 'Like what you see? Visit the ' +\n",
              "            '<a target=\"_blank\" href=https://colab.research.google.com/notebooks/data_table.ipynb>data table notebook</a>'\n",
              "            + ' to learn more about interactive tables.';\n",
              "          element.innerHTML = '';\n",
              "          dataTable['output_type'] = 'display_data';\n",
              "          await google.colab.output.renderOutput(dataTable, element);\n",
              "          const docLink = document.createElement('div');\n",
              "          docLink.innerHTML = docLinkHtml;\n",
              "          element.appendChild(docLink);\n",
              "        }\n",
              "      </script>\n",
              "    </div>\n",
              "  </div>\n",
              "  "
            ]
          },
          "metadata": {},
          "execution_count": 23
        }
      ]
    }
  ]
}