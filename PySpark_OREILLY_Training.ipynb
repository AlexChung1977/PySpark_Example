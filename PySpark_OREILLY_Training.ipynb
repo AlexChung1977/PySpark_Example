{
  "nbformat": 4,
  "nbformat_minor": 0,
  "metadata": {
    "colab": {
      "name": "PySpark_OREILLY_Training.ipynb",
      "provenance": []
    },
    "kernelspec": {
      "name": "python3",
      "display_name": "Python 3"
    },
    "language_info": {
      "name": "python"
    }
  },
  "cells": [
    {
      "cell_type": "code",
      "source": [
        "!pip install pyspark"
      ],
      "metadata": {
        "colab": {
          "base_uri": "https://localhost:8080/"
        },
        "id": "EN35Tu7Lj-q5",
        "outputId": "3cc1fbfa-ee3f-4cb3-e24d-a15ba71593f5"
      },
      "execution_count": 1,
      "outputs": [
        {
          "output_type": "stream",
          "name": "stdout",
          "text": [
            "Looking in indexes: https://pypi.org/simple, https://us-python.pkg.dev/colab-wheels/public/simple/\n",
            "Collecting pyspark\n",
            "  Downloading pyspark-3.3.0.tar.gz (281.3 MB)\n",
            "\u001b[K     |████████████████████████████████| 281.3 MB 45 kB/s \n",
            "\u001b[?25hCollecting py4j==0.10.9.5\n",
            "  Downloading py4j-0.10.9.5-py2.py3-none-any.whl (199 kB)\n",
            "\u001b[K     |████████████████████████████████| 199 kB 48.7 MB/s \n",
            "\u001b[?25hBuilding wheels for collected packages: pyspark\n",
            "  Building wheel for pyspark (setup.py) ... \u001b[?25l\u001b[?25hdone\n",
            "  Created wheel for pyspark: filename=pyspark-3.3.0-py2.py3-none-any.whl size=281764026 sha256=634075d5f611a5a48ff92f002b27ba37af2d226a807de652e8aef1c96c980876\n",
            "  Stored in directory: /root/.cache/pip/wheels/7a/8e/1b/f73a52650d2e5f337708d9f6a1750d451a7349a867f928b885\n",
            "Successfully built pyspark\n",
            "Installing collected packages: py4j, pyspark\n",
            "Successfully installed py4j-0.10.9.5 pyspark-3.3.0\n"
          ]
        }
      ]
    },
    {
      "cell_type": "code",
      "execution_count": 2,
      "metadata": {
        "id": "7qJl-UTbijOn"
      },
      "outputs": [],
      "source": [
        "import pyspark as ps\n",
        "import random"
      ]
    },
    {
      "cell_type": "code",
      "source": [
        "sc = ps.SparkContext()\n",
        "sc"
      ],
      "metadata": {
        "colab": {
          "base_uri": "https://localhost:8080/",
          "height": 197
        },
        "id": "IqcxRqyUj8rU",
        "outputId": "f9bc08be-5e96-439a-d8ad-394e1d3eeaa0"
      },
      "execution_count": 3,
      "outputs": [
        {
          "output_type": "execute_result",
          "data": {
            "text/plain": [
              "<SparkContext master=local[*] appName=pyspark-shell>"
            ],
            "text/html": [
              "\n",
              "        <div>\n",
              "            <p><b>SparkContext</b></p>\n",
              "\n",
              "            <p><a href=\"http://e06ec802adaa:4040\">Spark UI</a></p>\n",
              "\n",
              "            <dl>\n",
              "              <dt>Version</dt>\n",
              "                <dd><code>v3.3.0</code></dd>\n",
              "              <dt>Master</dt>\n",
              "                <dd><code>local[*]</code></dd>\n",
              "              <dt>AppName</dt>\n",
              "                <dd><code>pyspark-shell</code></dd>\n",
              "            </dl>\n",
              "        </div>\n",
              "        "
            ]
          },
          "metadata": {},
          "execution_count": 3
        }
      ]
    },
    {
      "cell_type": "code",
      "source": [
        "# RDD lambda\n",
        "%%time\n",
        "flips = 10000000\n",
        "coins = range(flips)\n",
        "\n",
        "heads = sc.parallelize(coins) \\\n",
        "          .map(lambda i: random.random()) \\\n",
        "          .filter(lambda r: r<0.50) \\\n",
        "          .count()\n",
        "\n",
        "print(heads) "
      ],
      "metadata": {
        "id": "PO3zFXNalmxr",
        "colab": {
          "base_uri": "https://localhost:8080/"
        },
        "outputId": "4c7fccc1-3453-40f2-fe4d-a68e93459cd0"
      },
      "execution_count": 4,
      "outputs": [
        {
          "output_type": "stream",
          "name": "stdout",
          "text": [
            "4997103\n",
            "CPU times: user 93.3 ms, sys: 9.55 ms, total: 103 ms\n",
            "Wall time: 9.91 s\n"
          ]
        }
      ]
    },
    {
      "cell_type": "code",
      "source": [
        "# RDD Operations\n",
        "pets = sc.parallelize([(\"cat\",1),(\"dog\",1),(\"cat\",2)])\n",
        "\n",
        "print(pets.reduceByKey(lambda x, y: x + y).take(10))\n",
        "\n",
        "print(pets.groupByKey().take(10))\n",
        "\n",
        "print(pets.sortByKey().take(10))"
      ],
      "metadata": {
        "colab": {
          "base_uri": "https://localhost:8080/"
        },
        "id": "rOzapQ8umYmT",
        "outputId": "7a728faa-451b-43c1-80b0-a8faf55962a5"
      },
      "execution_count": 5,
      "outputs": [
        {
          "output_type": "stream",
          "name": "stdout",
          "text": [
            "[('cat', 3), ('dog', 1)]\n",
            "[('cat', <pyspark.resultiterable.ResultIterable object at 0x7fcf6b27b390>), ('dog', <pyspark.resultiterable.ResultIterable object at 0x7fcf6b281290>)]\n",
            "[('cat', 1), ('cat', 2), ('dog', 1)]\n"
          ]
        }
      ]
    },
    {
      "cell_type": "code",
      "source": [
        "# Download posts data\n",
        "!wget -nc -P code/data/ https://archive.org/download/stackexchange/ai.stackexchange.com.7z/Posts.xml"
      ],
      "metadata": {
        "colab": {
          "base_uri": "https://localhost:8080/"
        },
        "id": "Mjo4cfaVDQ5U",
        "outputId": "59387a13-256d-4e9b-f26c-a74b0868afa8"
      },
      "execution_count": null,
      "outputs": [
        {
          "output_type": "stream",
          "name": "stdout",
          "text": [
            "File ‘code/data/Posts.xml’ already there; not retrieving.\n",
            "\n"
          ]
        }
      ]
    },
    {
      "cell_type": "code",
      "source": [
        "# Load file into RDD\n",
        "posts = sc.textFile(\"code/data/Posts.xml\")\n",
        "posts.take(3)"
      ],
      "metadata": {
        "colab": {
          "base_uri": "https://localhost:8080/"
        },
        "id": "Fuag0AoDDiaJ",
        "outputId": "d36420ab-7a4a-4a26-d613-a96242c71c64"
      },
      "execution_count": null,
      "outputs": [
        {
          "output_type": "execute_result",
          "data": {
            "text/plain": [
              "['<?xml version=\"1.0\" encoding=\"utf-8\"?>',\n",
              " '<posts>',\n",
              " '  <row Id=\"1\" PostTypeId=\"1\" AcceptedAnswerId=\"3\" CreationDate=\"2016-08-02T15:39:14.947\" Score=\"10\" ViewCount=\"659\" Body=\"&lt;p&gt;What does &quot;backprop&quot; mean? Is the &quot;backprop&quot; term basically the same as &quot;backpropagation&quot; or does it have a different meaning?&lt;/p&gt;&#xA;\" OwnerUserId=\"8\" LastEditorUserId=\"2444\" LastEditDate=\"2019-11-16T17:56:22.093\" LastActivityDate=\"2021-07-08T10:45:23.250\" Title=\"What is &quot;backprop&quot;?\" Tags=\"&lt;neural-networks&gt;&lt;backpropagation&gt;&lt;terminology&gt;&lt;definitions&gt;\" AnswerCount=\"5\" CommentCount=\"0\" FavoriteCount=\"1\" ContentLicense=\"CC BY-SA 4.0\" />']"
            ]
          },
          "metadata": {},
          "execution_count": 36
        }
      ]
    },
    {
      "cell_type": "code",
      "source": [
        "# Parse XML element\n",
        "import xml.etree.ElementTree as etree\n",
        "element = etree.fromstring(posts.take(3)[2])\n",
        "element.items()"
      ],
      "metadata": {
        "colab": {
          "base_uri": "https://localhost:8080/"
        },
        "id": "sJou0Q3-EFPj",
        "outputId": "1e66899b-573a-4577-8478-9ed0731908f0"
      },
      "execution_count": null,
      "outputs": [
        {
          "output_type": "execute_result",
          "data": {
            "text/plain": [
              "[('Id', '1'),\n",
              " ('PostTypeId', '1'),\n",
              " ('AcceptedAnswerId', '3'),\n",
              " ('CreationDate', '2016-08-02T15:39:14.947'),\n",
              " ('Score', '10'),\n",
              " ('ViewCount', '659'),\n",
              " ('Body',\n",
              "  '<p>What does \"backprop\" mean? Is the \"backprop\" term basically the same as \"backpropagation\" or does it have a different meaning?</p>\\n'),\n",
              " ('OwnerUserId', '8'),\n",
              " ('LastEditorUserId', '2444'),\n",
              " ('LastEditDate', '2019-11-16T17:56:22.093'),\n",
              " ('LastActivityDate', '2021-07-08T10:45:23.250'),\n",
              " ('Title', 'What is \"backprop\"?'),\n",
              " ('Tags', '<neural-networks><backpropagation><terminology><definitions>'),\n",
              " ('AnswerCount', '5'),\n",
              " ('CommentCount', '0'),\n",
              " ('FavoriteCount', '1'),\n",
              " ('ContentLicense', 'CC BY-SA 4.0')]"
            ]
          },
          "metadata": {},
          "execution_count": 37
        }
      ]
    },
    {
      "cell_type": "code",
      "source": [
        "posts.count()"
      ],
      "metadata": {
        "colab": {
          "base_uri": "https://localhost:8080/"
        },
        "id": "QETVngjEHcmx",
        "outputId": "22ce4288-c8aa-4f0c-c7db-0da1af553d03"
      },
      "execution_count": null,
      "outputs": [
        {
          "output_type": "execute_result",
          "data": {
            "text/plain": [
              "21604"
            ]
          },
          "metadata": {},
          "execution_count": 33
        }
      ]
    }
  ]
}